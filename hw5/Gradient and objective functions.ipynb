{
 "cells": [
  {
   "cell_type": "markdown",
   "metadata": {},
   "source": [
    "# 2.1.2 Analytic expressions"
   ]
  },
  {
   "cell_type": "code",
   "execution_count": 27,
   "metadata": {
    "collapsed": false
   },
   "outputs": [],
   "source": [
    "%matplotlib nbagg\n",
    "\n",
    "import numpy as np\n",
    "import numpy.linalg as LA\n",
    "import matplotlib.pyplot as plt\n",
    "\n",
    "class HuberSVM:       \n",
    "    def __init__(self, num_samples, C=1, h=0.5):\n",
    "        self.C = C\n",
    "        self.n = num_samples\n",
    "        self.h = h\n",
    "        \n",
    "    def _huber_loss(self, _X, _y, _w):\n",
    "        yt = _y * np.dot(_X, _w)\n",
    "        retval = np.where(yt > (1 + self.h), 0, np.where(yt < (1-self.h), 1 - yt, (1+self.h-yt)**2/(4*self.h)))\n",
    "        return retval\n",
    "    \n",
    "    def _huber_gradient(self, _X, _y, _w):\n",
    "        yt = _y * np.dot(_X, _w)\n",
    "        minus_yx = -1*(_y*_X.T).T\n",
    "        minus_h_to_h = (np.multiply(minus_yx.T,(1+self.h-yt)/(2*self.h))).T\n",
    "        gradient_vector = np.zeros(_X.shape[1])\n",
    "        for index, _yt in enumerate(yt):\n",
    "            loss_at_index = np.zeros(_X.shape[1])\n",
    "            \n",
    "            if yt[index] < (1-self.h):\n",
    "                loss_at_index = minus_yx[index]\n",
    "            elif yt[index] > (1+self.h):\n",
    "                loss_at_index = loss_at_index\n",
    "            else:\n",
    "                loss_at_index = minus_h_to_h[index]\n",
    "            gradient_vector = gradient_vector + loss_at_index\n",
    "                \n",
    "        return gradient_vector\n",
    "        \n",
    "    def fit(self, X, y):\n",
    "        self.data = X\n",
    "        self.target = y\n",
    "        \n",
    "    def compute_obj(self,w):\n",
    "        yt = np.dot(self.data,w)\n",
    "        obj = np.power(LA.norm(w),2) + (self.C/self.n)*np.dot(self._huber_loss(self.data, self.target, w), np.ones(self.data.shape[0]))\n",
    "        return obj;\n",
    "    \n",
    "    def compute_grad(self, w):\n",
    "        return 2*w + (self.C/self.n)*self._huber_gradient(self.data,self.target,w)"
   ]
  },
  {
   "cell_type": "code",
   "execution_count": 28,
   "metadata": {
    "collapsed": false
   },
   "outputs": [],
   "source": [
    "def grad_checker(objective_fn, w):\n",
    "    epsilon = 10**-4\n",
    "    calculated_gradient = []\n",
    "    for directional_vector in np.eye(w.shape[0], w.shape[0]):\n",
    "        gradient= (objective_fn(w+epsilon*directional_vector) - objective_fn(w-epsilon*directional_vector))/(2*epsilon)\n",
    "        calculated_gradient.append(gradient)\n",
    "    return calculated_gradient"
   ]
  },
  {
   "cell_type": "code",
   "execution_count": 30,
   "metadata": {
    "collapsed": false
   },
   "outputs": [
    {
     "name": "stdout",
     "output_type": "stream",
     "text": [
      "1.0\n",
      "[-0.80036892 -0.03835084  0.00234902]\n",
      "[-0.80036891958845668, -0.038350843898360409, 0.0023490171968676421]\n"
     ]
    }
   ],
   "source": [
    "from sklearn.datasets import load_iris\n",
    "from sklearn.decomposition import PCA\n",
    "from mpl_toolkits.mplot3d import Axes3D\n",
    "\n",
    "iris = load_iris()\n",
    "X_reduced = PCA(n_components=3).fit_transform(iris.data[:100])\n",
    "Y = iris.target[:100]\n",
    "\n",
    "\"\"\"\n",
    "fig = plt.figure(1, figsize=(8, 6))\n",
    "ax = Axes3D(fig, elev=-150, azim=110)\n",
    "\n",
    "ax.scatter(X_reduced[:, 0], X_reduced[:, 1], X_reduced[:, 2], c=Y,\n",
    "           cmap=plt.cm.Paired)\n",
    "ax.set_title(\"First three PCA directions\")\n",
    "ax.set_xlabel(\"1st eigenvector\")\n",
    "ax.w_xaxis.set_ticklabels([])\n",
    "ax.set_ylabel(\"2nd eigenvector\")\n",
    "ax.w_yaxis.set_ticklabels([])\n",
    "ax.set_zlabel(\"3rd eigenvector\")\n",
    "ax.w_zaxis.set_ticklabels([])\n",
    "plt.show()\n",
    "\"\"\"\n",
    "\n",
    "svm = HuberSVM(X_reduced.shape[0])\n",
    "svm.fit(X_reduced, Y)\n",
    "\n",
    "w = np.zeros(X_reduced.shape[1])\n",
    "print(svm.compute_obj(w))\n",
    "print(svm.compute_grad(w))\n",
    "print(grad_checker(svm.compute_obj,w))"
   ]
  },
  {
   "cell_type": "code",
   "execution_count": null,
   "metadata": {
    "collapsed": true
   },
   "outputs": [],
   "source": []
  }
 ],
 "metadata": {
  "kernelspec": {
   "display_name": "Python 3",
   "language": "python",
   "name": "python3"
  },
  "language_info": {
   "codemirror_mode": {
    "name": "ipython",
    "version": 3
   },
   "file_extension": ".py",
   "mimetype": "text/x-python",
   "name": "python",
   "nbconvert_exporter": "python",
   "pygments_lexer": "ipython3",
   "version": "3.4.3"
  }
 },
 "nbformat": 4,
 "nbformat_minor": 0
}
