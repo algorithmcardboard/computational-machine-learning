{
 "cells": [
  {
   "cell_type": "markdown",
   "metadata": {},
   "source": [
    "# SVM using linear kernels"
   ]
  },
  {
   "cell_type": "code",
   "execution_count": 8,
   "metadata": {
    "collapsed": false
   },
   "outputs": [],
   "source": [
    "%matplotlib nbagg\n",
    "\n",
    "import numpy as np\n",
    "import numpy.linalg as LA\n",
    "import matplotlib.pyplot as plt\n",
    "from sklearn.preprocessing import StandardScaler\n",
    "\n",
    "class LinearSVM:\n",
    "    def __init__(self, num_samples, C=1, h=0.5):\n",
    "        self.C = C\n",
    "        self.n = num_samples\n",
    "        self.h = h\n",
    "        \n",
    "    def _huber_loss(self, _X, _y, _w):\n",
    "        yt = _y * np.dot(_X, _w)\n",
    "        retval = np.where(yt > (1 + self.h), 0, np.where(yt < (1-self.h), 1 - yt, (1+self.h-yt)**2/(4*self.h)))\n",
    "        return retval\n",
    "    \n",
    "    def _huber_gradient(self, _X, _y, _w):\n",
    "        yt = _y * np.dot(_X, _w)\n",
    "        minus_yx = -1*(_y*_X.T).T\n",
    "        minus_h_to_h = (np.multiply(minus_yx.T,(1+self.h-yt)/(2*self.h))).T\n",
    "        gradient_vector = np.zeros(_X.shape[1])\n",
    "        for index, _yt in enumerate(yt):\n",
    "            loss_at_index = np.zeros(_X.shape[1])\n",
    "            \n",
    "            if yt[index] < (1-self.h):\n",
    "                loss_at_index = minus_yx[index]\n",
    "            elif yt[index] > (1+self.h):\n",
    "                loss_at_index = loss_at_index\n",
    "            else:\n",
    "                loss_at_index = minus_h_to_h[index]\n",
    "            gradient_vector = gradient_vector + loss_at_index\n",
    "                \n",
    "        return gradient_vector\n",
    "        \n",
    "    def fit(self, X, y):\n",
    "        self.data = np.dot(X, X.T)\n",
    "        self.target = y\n",
    "        \n",
    "    def compute_obj(self,w):\n",
    "        yt = np.dot(self.data,w)\n",
    "        obj = np.power(LA.norm(w),2) + (self.C/self.n)*np.dot(self._huber_loss(self.data, self.target, w), np.ones(self.data.shape[0]))\n",
    "        return obj;\n",
    "    \n",
    "    def compute_grad(self, w):\n",
    "        return 2*w + (self.C/self.n)*self._huber_gradient(self.data,self.target,w)"
   ]
  },
  {
   "cell_type": "markdown",
   "metadata": {},
   "source": [
    "## Observation\n",
    "The linear svm calculates the dot product between every $ x_{i} $ & $ x_{j} $ in the function fit.  This gram matrix is then used as the input samples for training the SVM."
   ]
  },
  {
   "cell_type": "code",
   "execution_count": null,
   "metadata": {
    "collapsed": true
   },
   "outputs": [],
   "source": []
  }
 ],
 "metadata": {
  "kernelspec": {
   "display_name": "Python 3",
   "language": "python",
   "name": "python3"
  },
  "language_info": {
   "codemirror_mode": {
    "name": "ipython",
    "version": 3
   },
   "file_extension": ".py",
   "mimetype": "text/x-python",
   "name": "python",
   "nbconvert_exporter": "python",
   "pygments_lexer": "ipython3",
   "version": "3.4.3"
  }
 },
 "nbformat": 4,
 "nbformat_minor": 0
}
